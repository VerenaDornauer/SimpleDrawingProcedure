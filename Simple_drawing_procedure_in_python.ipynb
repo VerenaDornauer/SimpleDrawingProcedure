{
 "cells": [
  {
   "cell_type": "markdown",
   "id": "polished-process",
   "metadata": {},
   "source": [
    "# Auslosverfahren Krankheiten"
   ]
  },
  {
   "cell_type": "code",
   "execution_count": 14,
   "id": "fantastic-reverse",
   "metadata": {},
   "outputs": [
    {
     "data": {
      "text/plain": [
       "{'Peter': 'Schlaganfall',\n",
       " 'Hans': 'Herzinfussizienz',\n",
       " 'Klaus': 'Herzinfarkt',\n",
       " 'Max': 'Diabetes Mellitus Typ 1'}"
      ]
     },
     "execution_count": 14,
     "metadata": {},
     "output_type": "execute_result"
    }
   ],
   "source": [
    "import random\n",
    "\n",
    "students = [\"Peter\", \"Hans\", \"Klaus\", \"Max\"]\n",
    "illnesses = [\"Schlaganfall\", \"Herzinfarkt\", \"Diabetes Mellitus Typ 1\", \"Diabetes Mellitus Typ 2\", \"Epileptischer Anfall\",\n",
    "           \"Herzinfussizienz\"]\n",
    "\n",
    "illnesses_one = illnesses.copy()\n",
    "\n",
    "results = {}\n",
    "\n",
    "for key in students:\n",
    "    for value in random.sample(illnesses_one,1):\n",
    "        results[key] = value\n",
    "        illnesses_one.remove(value)\n",
    "\n",
    "results\n",
    "    "
   ]
  },
  {
   "cell_type": "code",
   "execution_count": 13,
   "id": "innocent-elimination",
   "metadata": {},
   "outputs": [
    {
     "data": {
      "text/plain": [
       "['Schlaganfall',\n",
       " 'Herzinfarkt',\n",
       " 'Diabetes Mellitus Typ 1',\n",
       " 'Diabetes Mellitus Typ 2',\n",
       " 'Epileptischer Anfall',\n",
       " 'Herzinfussizienz']"
      ]
     },
     "execution_count": 13,
     "metadata": {},
     "output_type": "execute_result"
    }
   ],
   "source": [
    "illnesses"
   ]
  },
  {
   "cell_type": "code",
   "execution_count": 16,
   "id": "younger-berry",
   "metadata": {},
   "outputs": [
    {
     "data": {
      "text/plain": [
       "{'Anna': 'Python', 'Liz': 'C', 'Mike': 'Fortran', 'Steve': 'Haskell'}"
      ]
     },
     "execution_count": 16,
     "metadata": {},
     "output_type": "execute_result"
    }
   ],
   "source": [
    "import random\n",
    "students = ['Anna', 'Liz', 'Mike', 'Steve']\n",
    "programming_languages = ['Python', 'Java', 'C', 'C++', 'Fortran', 'Haskell']\n",
    "results = {}\n",
    "for key in students:\n",
    "    for value in random.sample(programming_languages,1):\n",
    "        results[key] = value\n",
    "        programming_languages.remove(value)\n",
    "results"
   ]
  },
  {
   "cell_type": "code",
   "execution_count": null,
   "id": "common-kelly",
   "metadata": {},
   "outputs": [],
   "source": []
  }
 ],
 "metadata": {
  "kernelspec": {
   "display_name": "Python 3",
   "language": "python",
   "name": "python3"
  },
  "language_info": {
   "codemirror_mode": {
    "name": "ipython",
    "version": 3
   },
   "file_extension": ".py",
   "mimetype": "text/x-python",
   "name": "python",
   "nbconvert_exporter": "python",
   "pygments_lexer": "ipython3",
   "version": "3.7.3"
  }
 },
 "nbformat": 4,
 "nbformat_minor": 5
}
