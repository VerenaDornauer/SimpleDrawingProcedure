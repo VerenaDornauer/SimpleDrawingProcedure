{
 "cells": [
  {
   "cell_type": "markdown",
   "id": "figured-composer",
   "metadata": {},
   "source": [
    "# Simple drawing procedure in Python"
   ]
  },
  {
   "cell_type": "markdown",
   "id": "indonesian-maria",
   "metadata": {},
   "source": [
    "### Use case:\n",
    "Students should elaborate the basics of a randomly assigned programming language."
   ]
  },
  {
   "cell_type": "code",
   "execution_count": 1,
   "id": "diagnostic-duncan",
   "metadata": {},
   "outputs": [
    {
     "data": {
      "text/plain": [
       "{'Anna': 'Python', 'Liz': 'Fortran', 'Mike': 'C', 'Steve': 'Java'}"
      ]
     },
     "execution_count": 1,
     "metadata": {},
     "output_type": "execute_result"
    }
   ],
   "source": [
    "# import the random library\n",
    "import random\n",
    "\n",
    "# set students and selectable programming lanugages, and create an empty dictionary\n",
    "students = ['Anna', 'Liz', 'Mike', 'Steve']\n",
    "programming_languages = ['Python', 'Java', 'C', 'C++', 'Fortran', 'Haskell']\n",
    "results = {}\n",
    "\n",
    "# for loop for randomly assigning an individual programming language to each student\n",
    "for key in students:\n",
    "    for value in random.sample(programming_languages,1):\n",
    "        results[key] = value\n",
    "        programming_languages.remove(value)\n",
    "\n",
    "# display results\n",
    "results"
   ]
  },
  {
   "cell_type": "markdown",
   "id": "automatic-trunk",
   "metadata": {},
   "source": [
    "#### Python Notebook created by V. Dornauer, August 2021"
   ]
  }
 ],
 "metadata": {
  "kernelspec": {
   "display_name": "Python 3",
   "language": "python",
   "name": "python3"
  },
  "language_info": {
   "codemirror_mode": {
    "name": "ipython",
    "version": 3
   },
   "file_extension": ".py",
   "mimetype": "text/x-python",
   "name": "python",
   "nbconvert_exporter": "python",
   "pygments_lexer": "ipython3",
   "version": "3.7.3"
  }
 },
 "nbformat": 4,
 "nbformat_minor": 5
}
